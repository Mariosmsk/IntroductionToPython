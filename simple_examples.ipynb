{
 "cells": [
  {
   "cell_type": "markdown",
   "source": [
    "# Simple examples"
   ],
   "metadata": {
    "collapsed": false
   }
  },
  {
   "cell_type": "code",
   "execution_count": 107,
   "outputs": [],
   "source": [
    "X = 10 - 5  # Write comment\n",
    "Y = 'KIOS'\n",
    "Z = 15"
   ],
   "metadata": {
    "collapsed": false
   }
  },
  {
   "cell_type": "code",
   "execution_count": 108,
   "outputs": [
    {
     "name": "stdout",
     "output_type": "stream",
     "text": [
      "KIO\n"
     ]
    }
   ],
   "source": [
    "print(Y[0:3])"
   ],
   "metadata": {
    "collapsed": false
   }
  },
  {
   "cell_type": "code",
   "execution_count": 109,
   "outputs": [
    {
     "name": "stdout",
     "output_type": "stream",
     "text": [
      "6\n",
      "KIOS CoE\n"
     ]
    }
   ],
   "source": [
    "if Y == 'KIOS' or X == 10:\n",
    "    X += 1\n",
    "    Y += ' CoE'\n",
    "print(X)\n",
    "print(Y)"
   ],
   "metadata": {
    "collapsed": false
   }
  },
  {
   "cell_type": "markdown",
   "source": [
    "# List example"
   ],
   "metadata": {
    "collapsed": false
   }
  },
  {
   "cell_type": "code",
   "execution_count": 110,
   "outputs": [
    {
     "name": "stdout",
     "output_type": "stream",
     "text": [
      "junctions\n",
      "reservoirs\n",
      "pipes\n"
     ]
    }
   ],
   "source": [
    "water_objects = [\"junctions\", \"reservoirs\", \"pipes\"]\n",
    "for water_object in water_objects:\n",
    "    print(water_object)"
   ],
   "metadata": {
    "collapsed": false
   }
  },
  {
   "cell_type": "code",
   "execution_count": 111,
   "outputs": [
    {
     "name": "stdout",
     "output_type": "stream",
     "text": [
      "0 junctions\n",
      "1 reservoirs\n",
      "2 pipes\n"
     ]
    }
   ],
   "source": [
    "for i, water_object in enumerate(water_objects):\n",
    "    print(i, water_object)"
   ],
   "metadata": {
    "collapsed": false
   }
  },
  {
   "cell_type": "code",
   "execution_count": 112,
   "outputs": [
    {
     "name": "stdout",
     "output_type": "stream",
     "text": [
      "{'reservoirs', 'junctions', 'pipes'}\n",
      "{'reservoirs', 'pumps', 'junctions', 'pipes'}\n"
     ]
    }
   ],
   "source": [
    "unique_water_objects = set(water_objects)\n",
    "print(unique_water_objects)\n",
    "unique_water_objects.add(\"pumps\")\n",
    "print(unique_water_objects)"
   ],
   "metadata": {
    "collapsed": false
   }
  },
  {
   "cell_type": "code",
   "execution_count": 113,
   "outputs": [
    {
     "name": "stdout",
     "output_type": "stream",
     "text": [
      "valves is not in the set\n"
     ]
    }
   ],
   "source": [
    "if \"valves\" in unique_water_objects:\n",
    "    print(\"valves is in the set\")\n",
    "else:\n",
    "    print(\"valves is not in the set\")"
   ],
   "metadata": {
    "collapsed": false
   }
  },
  {
   "cell_type": "markdown",
   "source": [
    "# Dictionary example"
   ],
   "metadata": {
    "collapsed": false
   }
  },
  {
   "cell_type": "code",
   "execution_count": 114,
   "outputs": [
    {
     "name": "stdout",
     "output_type": "stream",
     "text": [
      "Ford\n"
     ]
    }
   ],
   "source": [
    "car = {\"brand\": \"Ford\", \"model\": \"Mustang\", \"year\": 1964}\n",
    "# Access value\n",
    "print(car[\"brand\"])"
   ],
   "metadata": {
    "collapsed": false
   }
  },
  {
   "cell_type": "code",
   "execution_count": 115,
   "outputs": [
    {
     "name": "stdout",
     "output_type": "stream",
     "text": [
      "{'brand': 'Ford', 'model': 'Mustang', 'year': 1964, 'color': 'red'}\n"
     ]
    }
   ],
   "source": [
    "car[\"color\"] = \"red\"\n",
    "print(car)"
   ],
   "metadata": {
    "collapsed": false
   }
  },
  {
   "cell_type": "code",
   "execution_count": 116,
   "outputs": [
    {
     "name": "stdout",
     "output_type": "stream",
     "text": [
      "dict_keys(['brand', 'model', 'year', 'color'])\n"
     ]
    }
   ],
   "source": [
    "print(car.keys())"
   ],
   "metadata": {
    "collapsed": false
   }
  },
  {
   "cell_type": "code",
   "execution_count": 117,
   "outputs": [
    {
     "name": "stdout",
     "output_type": "stream",
     "text": [
      "{'brand': 'Ford', 'model': 'Mustang', 'color': 'red'}\n"
     ]
    }
   ],
   "source": [
    "del car[\"year\"] # delete item\n",
    "print(car)"
   ],
   "metadata": {
    "collapsed": false
   }
  },
  {
   "cell_type": "code",
   "execution_count": 118,
   "outputs": [
    {
     "name": "stdout",
     "output_type": "stream",
     "text": [
      "Model exists in car dictionary\n"
     ]
    }
   ],
   "source": [
    "# Check if key exists\n",
    "if \"model\" in car:\n",
    "    print(\"Model exists in car dictionary\")"
   ],
   "metadata": {
    "collapsed": false
   }
  },
  {
   "cell_type": "code",
   "execution_count": 119,
   "outputs": [
    {
     "name": "stdout",
     "output_type": "stream",
     "text": [
      "brand Ford\n",
      "model Mustang\n",
      "color red\n"
     ]
    }
   ],
   "source": [
    "# Iterating over keys\n",
    "for key in car:\n",
    "    print(key, car[key])"
   ],
   "metadata": {
    "collapsed": false
   }
  },
  {
   "cell_type": "code",
   "execution_count": 120,
   "outputs": [
    {
     "name": "stdout",
     "output_type": "stream",
     "text": [
      "brand Ford\n",
      "model Mustang\n",
      "color red\n"
     ]
    }
   ],
   "source": [
    "for key, value in car.items():\n",
    "    print (key, value)"
   ],
   "metadata": {
    "collapsed": false
   }
  },
  {
   "cell_type": "code",
   "execution_count": 121,
   "outputs": [
    {
     "name": "stdout",
     "output_type": "stream",
     "text": [
      "Ford\n",
      "Mustang\n",
      "red\n"
     ]
    }
   ],
   "source": [
    "for value in car.values():\n",
    "    print(value)"
   ],
   "metadata": {
    "collapsed": false
   }
  },
  {
   "cell_type": "markdown",
   "source": [
    "# Function example"
   ],
   "metadata": {
    "collapsed": false
   }
  },
  {
   "cell_type": "code",
   "execution_count": 122,
   "outputs": [],
   "source": [
    "def add_or_concatenate(a, b):\n",
    "    if isinstance(a, str) or isinstance(b, str):\n",
    "        return str(a) + str(b)\n",
    "    else:\n",
    "        return a + b"
   ],
   "metadata": {
    "collapsed": false
   }
  },
  {
   "cell_type": "code",
   "execution_count": 123,
   "outputs": [
    {
     "name": "stdout",
     "output_type": "stream",
     "text": [
      "nodes and junctions\n"
     ]
    }
   ],
   "source": [
    "c = add_or_concatenate('nodes and ', 'junctions')\n",
    "print(c)"
   ],
   "metadata": {
    "collapsed": false
   }
  },
  {
   "cell_type": "code",
   "execution_count": 124,
   "outputs": [
    {
     "name": "stdout",
     "output_type": "stream",
     "text": [
      "26\n"
     ]
    }
   ],
   "source": [
    "c = add_or_concatenate(5, 21)\n",
    "print(c)"
   ],
   "metadata": {
    "collapsed": false
   }
  },
  {
   "cell_type": "markdown",
   "source": [
    "# Class example"
   ],
   "metadata": {
    "collapsed": false
   }
  },
  {
   "cell_type": "code",
   "execution_count": 125,
   "outputs": [],
   "source": [
    "import math\n",
    "\n",
    "class Point:\n",
    "    # static class variable, point count\n",
    "    count = 0\n",
    "    def __init__(self, x, y):\n",
    "        self.x = float(x)\n",
    "        self.y = float(y)\n",
    "        Point.count += 1\n",
    "\n",
    "    def __str__(self):\n",
    "        return \\\n",
    "        '(x={}, y={})'.format(self.x, self.y)\n",
    "\n",
    "    def to_polar(self):\n",
    "        r = math.sqrt(self.x**2 + self.y**2)\n",
    "        theta = math.atan2(self.y, self.x)\n",
    "        return(r, theta)\n",
    "        # static method – trivial example ..."
   ],
   "metadata": {
    "collapsed": false
   }
  },
  {
   "cell_type": "code",
   "execution_count": 126,
   "outputs": [
    {
     "name": "stdout",
     "output_type": "stream",
     "text": [
      "(x=-1.0, y=-1.0)\n",
      "(1.4142135623730951, -2.356194490192345)\n",
      "(x=-1.0, y=0.0)\n",
      "(1.0, 3.141592653589793)\n",
      "(x=-1.0, y=1.0)\n",
      "(1.4142135623730951, 2.356194490192345)\n",
      "(x=0.0, y=-1.0)\n",
      "(1.0, -1.5707963267948966)\n",
      "(x=0.0, y=0.0)\n",
      "(0.0, 0.0)\n",
      "(x=0.0, y=1.0)\n",
      "(1.0, 1.5707963267948966)\n",
      "(x=1.0, y=-1.0)\n",
      "(1.4142135623730951, -0.7853981633974483)\n",
      "(x=1.0, y=0.0)\n",
      "(1.0, 0.0)\n",
      "(x=1.0, y=1.0)\n",
      "(1.4142135623730951, 0.7853981633974483)\n"
     ]
    }
   ],
   "source": [
    "for x in range(-1, 2):\n",
    "    for y in range(-1, 2):\n",
    "        p = Point(x, y)\n",
    "        print (p) # uses __str__() method\n",
    "        print (p.to_polar())"
   ],
   "metadata": {
    "collapsed": false
   }
  },
  {
   "cell_type": "code",
   "execution_count": 127,
   "outputs": [
    {
     "name": "stdout",
     "output_type": "stream",
     "text": [
      "9\n"
     ]
    }
   ],
   "source": [
    "print (Point.count)"
   ],
   "metadata": {
    "collapsed": false
   }
  },
  {
   "cell_type": "code",
   "execution_count": 128,
   "outputs": [],
   "source": [
    "import numpy as np\n",
    "import pandas as pd\n",
    "import matplotlib.pyplot as plt"
   ],
   "metadata": {
    "collapsed": false
   }
  },
  {
   "cell_type": "code",
   "execution_count": 129,
   "outputs": [
    {
     "name": "stdout",
     "output_type": "stream",
     "text": [
      "[ 0.20659234 -0.12562521 -0.48614093  0.89834326 -0.21102958 -0.05439154\n",
      " -0.82490882 -0.45431738 -2.20869238  0.2140162  -1.80786465  1.03312801\n",
      " -0.9912376   0.17609361  1.15820999  0.63640427 -0.08785022 -0.57709494\n",
      "  1.05453529 -0.43582325 -0.46208454 -0.10124644  0.8031243  -0.31601803\n",
      " -0.62710931  1.92735997 -0.02529434  0.44183493  0.21514905  0.44853063\n",
      "  1.31794192  0.29420964 -1.5784603  -0.81918655 -0.85268255 -1.39317323\n",
      "  0.01086109  2.64975271 -0.26621942  0.93592582 -0.69572337  0.4816469\n",
      "  1.31149626 -0.40172409  0.40704243 -1.41760753 -0.47179397 -1.60604752\n",
      " -0.7612941   0.66830632 -1.00791256  1.15055743 -1.00492381 -0.08710813\n",
      " -0.20696131 -0.78710974  0.85146017  0.94398198  0.35084314  0.17356437\n",
      "  1.33742888 -0.09443282  0.25935421 -0.24140692  0.62349001 -0.02800756\n",
      " -0.02171636  0.28751491  0.04210848 -0.45011223  0.88831882  1.25422025\n",
      "  1.52827297  0.6446177   0.11424449 -0.3377288   0.03950353 -0.2351689\n",
      "  0.10781578 -1.71829582 -0.43373732  1.49022059  0.03230255  1.68306944\n",
      "  0.29096862  0.32534831 -0.7814801  -0.26352423 -0.94002169 -0.43609578\n",
      " -2.01732259 -2.20113254  0.44704069 -1.49791646 -0.62263621 -1.18150763\n",
      " -0.32988181  0.22007586 -1.2473152   0.82007265]\n"
     ]
    }
   ],
   "source": [
    "# Step 1: Generate random data using NumPy\n",
    "data = np.random.randn(100)  # 100 random numbers\n",
    "print(data)"
   ],
   "metadata": {
    "collapsed": false
   }
  },
  {
   "cell_type": "code",
   "execution_count": 130,
   "outputs": [
    {
     "name": "stdout",
     "output_type": "stream",
     "text": [
      "    Random Numbers\n",
      "0         0.206592\n",
      "1        -0.125625\n",
      "2        -0.486141\n",
      "3         0.898343\n",
      "4        -0.211030\n",
      "..             ...\n",
      "95       -1.181508\n",
      "96       -0.329882\n",
      "97        0.220076\n",
      "98       -1.247315\n",
      "99        0.820073\n",
      "\n",
      "[100 rows x 1 columns]\n"
     ]
    }
   ],
   "source": [
    "# Step 2: Create a Pandas DataFrame\n",
    "df = pd.DataFrame(data, columns=['Random Numbers'])\n",
    "print(df)"
   ],
   "metadata": {
    "collapsed": false
   }
  },
  {
   "cell_type": "code",
   "execution_count": 131,
   "outputs": [
    {
     "data": {
      "text/plain": "<Figure size 1000x600 with 1 Axes>",
      "image/png": "[encoded data removed]"
     },
     "metadata": {},
     "output_type": "display_data"
    }
   ],
   "source": [
    "# Step 3: Plot the data using Matplotlib\n",
    "plt.figure(figsize=(10, 6))\n",
    "plt.plot(df.index, df['Random Numbers'], marker='o', linestyle='-')\n",
    "plt.title('Random Number Plot')\n",
    "plt.xlabel('Index')\n",
    "plt.ylabel('Random Number')\n",
    "plt.grid(True)\n",
    "plt.show()"
   ],
   "metadata": {
    "collapsed": false
   }
  }
 ],
 "metadata": {},
 "nbformat": 4,
 "nbformat_minor": 5
}
